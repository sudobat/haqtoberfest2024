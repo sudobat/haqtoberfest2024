{
 "cells": [
  {
   "cell_type": "code",
   "execution_count": 65,
   "metadata": {},
   "outputs": [],
   "source": [
    "import matplotlib.pyplot as plt\n",
    "from qibo import gates, models\n",
    "from qibo.ui import plot_circuit"
   ]
  },
  {
   "cell_type": "code",
   "execution_count": 66,
   "metadata": {},
   "outputs": [],
   "source": [
    "c = models.Circuit(5)\n",
    "c.add(gates.CNOT(0, 2))\n",
    "c.add(gates.CNOT(2, 4))\n",
    "c.add(gates.CNOT(1, 3))\n",
    "c.add(gates.X(0))\n",
    "c.add(gates.CNOT(4, 3))\n",
    "c.add(gates.CNOT(1, 2))\n",
    "c.add(gates.CNOT(0, 1))\n",
    "c.add(gates.X(2))\n",
    "c.add(gates.H(0))\n",
    "c.add(gates.H(3))\n",
    "c.add(gates.CNOT(1, 0))\n",
    "c.add(gates.CNOT(3, 2))\n",
    "c.add(gates.CNOT(0, 3))"
   ]
  },
  {
   "cell_type": "code",
   "execution_count": 77,
   "metadata": {},
   "outputs": [
    {
     "name": "stderr",
     "output_type": "stream",
     "text": [
      "[Qibo 0.2.12|ERROR|2024-10-05 18:11:01]: Cannot return gates on 1 qubits because the circuit contains 5 qubits.\n"
     ]
    },
    {
     "ename": "ValueError",
     "evalue": "Cannot return gates on 1 qubits because the circuit contains 5 qubits.",
     "output_type": "error",
     "traceback": [
      "\u001b[0;31m---------------------------------------------------------------------------\u001b[0m",
      "\u001b[0;31mValueError\u001b[0m                                Traceback (most recent call last)",
      "Cell \u001b[0;32mIn[77], line 1\u001b[0m\n\u001b[0;32m----> 1\u001b[0m \u001b[38;5;28;43;01mfor\u001b[39;49;00m\u001b[43m \u001b[49m\u001b[43mg\u001b[49m\u001b[43m \u001b[49m\u001b[38;5;129;43;01min\u001b[39;49;00m\u001b[43m \u001b[49m\u001b[43mc\u001b[49m\u001b[38;5;241;43m.\u001b[39;49m\u001b[43mon_qubits\u001b[49m\u001b[43m(\u001b[49m\u001b[38;5;241;43m2\u001b[39;49m\u001b[43m)\u001b[49m\u001b[43m:\u001b[49m\n\u001b[1;32m      2\u001b[0m \u001b[43m    \u001b[49m\u001b[38;5;28;43mprint\u001b[39;49m\u001b[43m(\u001b[49m\u001b[43mg\u001b[49m\u001b[43m)\u001b[49m\n",
      "File \u001b[0;32m~/miniconda3/envs/haqtoberfest/lib/python3.12/site-packages/qibo/models/circuit.py:359\u001b[0m, in \u001b[0;36mCircuit.on_qubits\u001b[0;34m(self, *qubits)\u001b[0m\n\u001b[1;32m    335\u001b[0m \u001b[38;5;250m\u001b[39m\u001b[38;5;124;03m\"\"\"Generator of gates contained in the circuit acting on specified\u001b[39;00m\n\u001b[1;32m    336\u001b[0m \u001b[38;5;124;03mqubits.\u001b[39;00m\n\u001b[1;32m    337\u001b[0m \n\u001b[0;32m   (...)\u001b[0m\n\u001b[1;32m    356\u001b[0m \u001b[38;5;124;03m        largec.add(smallc.on_qubits(*range(0, 8, 2)))\u001b[39;00m\n\u001b[1;32m    357\u001b[0m \u001b[38;5;124;03m\"\"\"\u001b[39;00m\n\u001b[1;32m    358\u001b[0m \u001b[38;5;28;01mif\u001b[39;00m \u001b[38;5;28mlen\u001b[39m(qubits) \u001b[38;5;241m!=\u001b[39m \u001b[38;5;28mself\u001b[39m\u001b[38;5;241m.\u001b[39mnqubits:\n\u001b[0;32m--> 359\u001b[0m     \u001b[43mraise_error\u001b[49m\u001b[43m(\u001b[49m\n\u001b[1;32m    360\u001b[0m \u001b[43m        \u001b[49m\u001b[38;5;167;43;01mValueError\u001b[39;49;00m\u001b[43m,\u001b[49m\n\u001b[1;32m    361\u001b[0m \u001b[43m        \u001b[49m\u001b[38;5;124;43mf\u001b[39;49m\u001b[38;5;124;43m\"\u001b[39;49m\u001b[38;5;124;43mCannot return gates on \u001b[39;49m\u001b[38;5;132;43;01m{\u001b[39;49;00m\u001b[38;5;28;43mlen\u001b[39;49m\u001b[43m(\u001b[49m\u001b[43mqubits\u001b[49m\u001b[43m)\u001b[49m\u001b[38;5;132;43;01m}\u001b[39;49;00m\u001b[38;5;124;43m qubits because \u001b[39;49m\u001b[38;5;124;43m\"\u001b[39;49m\n\u001b[1;32m    362\u001b[0m \u001b[43m        \u001b[49m\u001b[38;5;241;43m+\u001b[39;49m\u001b[43m \u001b[49m\u001b[38;5;124;43mf\u001b[39;49m\u001b[38;5;124;43m\"\u001b[39;49m\u001b[38;5;124;43mthe circuit contains \u001b[39;49m\u001b[38;5;132;43;01m{\u001b[39;49;00m\u001b[38;5;28;43mself\u001b[39;49m\u001b[38;5;241;43m.\u001b[39;49m\u001b[43mnqubits\u001b[49m\u001b[38;5;132;43;01m}\u001b[39;49;00m\u001b[38;5;124;43m qubits.\u001b[39;49m\u001b[38;5;124;43m\"\u001b[39;49m\u001b[43m,\u001b[49m\n\u001b[1;32m    363\u001b[0m \u001b[43m    \u001b[49m\u001b[43m)\u001b[49m\n\u001b[1;32m    364\u001b[0m \u001b[38;5;28;01mif\u001b[39;00m \u001b[38;5;28mself\u001b[39m\u001b[38;5;241m.\u001b[39maccelerators \u001b[38;5;129;01mand\u001b[39;00m \u001b[38;5;28mself\u001b[39m\u001b[38;5;241m.\u001b[39mqueues\u001b[38;5;241m.\u001b[39mqueues:  \u001b[38;5;66;03m# pragma: no cover\u001b[39;00m\n\u001b[1;32m    365\u001b[0m     raise_error(\n\u001b[1;32m    366\u001b[0m         \u001b[38;5;167;01mRuntimeError\u001b[39;00m,\n\u001b[1;32m    367\u001b[0m         \u001b[38;5;124m\"\u001b[39m\u001b[38;5;124mCannot use distributed circuit as a subroutine after it was executed.\u001b[39m\u001b[38;5;124m\"\u001b[39m,\n\u001b[1;32m    368\u001b[0m     )\n",
      "File \u001b[0;32m~/miniconda3/envs/haqtoberfest/lib/python3.12/site-packages/qibo/config.py:46\u001b[0m, in \u001b[0;36mraise_error\u001b[0;34m(exception, message)\u001b[0m\n\u001b[1;32m     39\u001b[0m \u001b[38;5;250m\u001b[39m\u001b[38;5;124;03m\"\"\"Raise exception with logging error.\u001b[39;00m\n\u001b[1;32m     40\u001b[0m \n\u001b[1;32m     41\u001b[0m \u001b[38;5;124;03mArgs:\u001b[39;00m\n\u001b[1;32m     42\u001b[0m \u001b[38;5;124;03m    exception (Exception): python exception.\u001b[39;00m\n\u001b[1;32m     43\u001b[0m \u001b[38;5;124;03m    message (str): the error message.\u001b[39;00m\n\u001b[1;32m     44\u001b[0m \u001b[38;5;124;03m\"\"\"\u001b[39;00m\n\u001b[1;32m     45\u001b[0m log\u001b[38;5;241m.\u001b[39merror(message)\n\u001b[0;32m---> 46\u001b[0m \u001b[38;5;28;01mraise\u001b[39;00m exception(message)\n",
      "\u001b[0;31mValueError\u001b[0m: Cannot return gates on 1 qubits because the circuit contains 5 qubits."
     ]
    }
   ],
   "source": [
    "for g in c.ga(2):\n",
    "    print(g)"
   ]
  },
  {
   "cell_type": "code",
   "execution_count": 67,
   "metadata": {},
   "outputs": [
    {
     "data": {
      "text/plain": [
       "[<qibo.gates.gates.CNOT at 0x7fe4fcde5df0>,\n",
       " <qibo.gates.gates.CNOT at 0x7fe4fcdc6f30>,\n",
       " <qibo.gates.gates.CNOT at 0x7fe4fcc57680>,\n",
       " <qibo.gates.gates.X at 0x7fe4fd2e6450>,\n",
       " <qibo.gates.gates.CNOT at 0x7fe4fcc42cc0>,\n",
       " <qibo.gates.gates.CNOT at 0x7fe4fcbcaed0>,\n",
       " <qibo.gates.gates.CNOT at 0x7fe4fcbcbce0>,\n",
       " <qibo.gates.gates.X at 0x7fe4fcbcb380>,\n",
       " <qibo.gates.gates.H at 0x7fe4fd2aaa50>,\n",
       " <qibo.gates.gates.H at 0x7fe4fd1f92e0>,\n",
       " <qibo.gates.gates.CNOT at 0x7fe4fd1f9610>,\n",
       " <qibo.gates.gates.CNOT at 0x7fe4fd1f8350>,\n",
       " <qibo.gates.gates.CNOT at 0x7fe4fd1faf00>]"
      ]
     },
     "execution_count": 67,
     "metadata": {},
     "output_type": "execute_result"
    }
   ],
   "source": [
    "c.queue"
   ]
  },
  {
   "cell_type": "code",
   "execution_count": 64,
   "metadata": {},
   "outputs": [
    {
     "data": {
      "text/plain": [
       "(2,)"
      ]
     },
     "execution_count": 64,
     "metadata": {},
     "output_type": "execute_result"
    }
   ],
   "source": [
    "test_g = gates.CNOT(0, 1)\n",
    "test_g.target_qubits = (2,)\n",
    "test_g.target_qubits\n",
    "\n",
    "# test_g.control_qubits"
   ]
  },
  {
   "cell_type": "code",
   "execution_count": 73,
   "metadata": {},
   "outputs": [],
   "source": [
    "d = [(i.name, i.qubits, i) for i in c.queue]\n",
    "te = (\"cx\", (0, 1))\n",
    "ze = (\"cx\", (0, 2))"
   ]
  },
  {
   "cell_type": "code",
   "execution_count": 74,
   "metadata": {},
   "outputs": [
    {
     "data": {
      "text/plain": [
       "False"
      ]
     },
     "execution_count": 74,
     "metadata": {},
     "output_type": "execute_result"
    }
   ],
   "source": [
    "te == ze"
   ]
  },
  {
   "cell_type": "code",
   "execution_count": 24,
   "metadata": {},
   "outputs": [
    {
     "name": "stdout",
     "output_type": "stream",
     "text": [
      "dict_keys(['cx'])\n",
      "dict_keys(['cx'])\n",
      "dict_keys(['cx'])\n",
      "dict_keys(['x'])\n",
      "dict_keys(['cx'])\n",
      "dict_keys(['cx'])\n",
      "dict_keys(['cx'])\n",
      "dict_keys(['x'])\n",
      "dict_keys(['h'])\n",
      "dict_keys(['h'])\n",
      "dict_keys(['cx'])\n",
      "dict_keys(['cx'])\n",
      "dict_keys(['cx'])\n"
     ]
    }
   ],
   "source": [
    "for d in di:\n",
    "    print(d.keys())"
   ]
  },
  {
   "cell_type": "code",
   "execution_count": 8,
   "metadata": {},
   "outputs": [
    {
     "data": {
      "image/png": "[encoded data removed]",
      "text/plain": [
       "<Figure size 660x300 with 1 Axes>"
      ]
     },
     "metadata": {},
     "output_type": "display_data"
    }
   ],
   "source": [
    "ax, fig = plot_circuit(c)\n",
    "ax.set_title(\"FIG.2\")\n",
    "plt.show()"
   ]
  },
  {
   "cell_type": "code",
   "execution_count": 50,
   "metadata": {},
   "outputs": [
    {
     "name": "stdout",
     "output_type": "stream",
     "text": [
      "Shortest path: [1, 6]\n"
     ]
    }
   ],
   "source": [
    "from collections import deque\n",
    "\n",
    "\n",
    "def bfs_shortest_path(graph, start, goal):\n",
    "    # Create a queue to store paths to explore and initialize it with the starting node\n",
    "    queue = deque([[start]])\n",
    "\n",
    "    # Set to keep track of visited nodes to avoid cycles\n",
    "    visited = set([start])\n",
    "\n",
    "    # If the start and goal are the same, we're done\n",
    "    if start == goal:\n",
    "        return [start]\n",
    "\n",
    "    # Perform BFS\n",
    "    while queue:\n",
    "        # Get the first path from the queue\n",
    "        path = queue.popleft()\n",
    "        # Get the last node in the path\n",
    "        node = path[-1]\n",
    "\n",
    "        # Explore all neighbors of the current node\n",
    "        for neighbor in graph.get(node, []):\n",
    "            if neighbor not in visited:\n",
    "                # Create a new path by extending the current path\n",
    "                new_path = list(path) + [neighbor]\n",
    "\n",
    "                # If we reach the goal, return the path\n",
    "                if neighbor == goal:\n",
    "                    return new_path\n",
    "\n",
    "                # Otherwise, add the new path to the queue and mark the node as visited\n",
    "                queue.append(new_path)\n",
    "                visited.add(neighbor)\n",
    "\n",
    "    # If no path is found, return None\n",
    "    return None\n",
    "\n",
    "\n",
    "# Example usage:\n",
    "edges = [(1, 2), (1, 3), (2, 4), (3, 4), (3, 5), (4, 6)]\n",
    "edges = [(1, 2), (2, 3), (3, 4), (4, 5), (5, 6), (6, 1)]\n",
    "# Convert the edge list into an adjacency list representation\n",
    "graph = {}\n",
    "for u, v in edges:\n",
    "    graph.setdefault(u, []).append(v)\n",
    "    graph.setdefault(v, []).append(u)\n",
    "\n",
    "# Find the shortest path between node 1 and node 6\n",
    "shortest_path = bfs_shortest_path(graph, 1, 6)\n",
    "print(f\"Shortest path: {shortest_path}\")"
   ]
  },
  {
   "cell_type": "code",
   "execution_count": 52,
   "metadata": {},
   "outputs": [],
   "source": [
    "import networkx as nx"
   ]
  },
  {
   "cell_type": "code",
   "execution_count": 60,
   "metadata": {},
   "outputs": [
    {
     "data": {
      "image/png": "[encoded data removed]",
      "text/plain": [
       "<Figure size 640x480 with 1 Axes>"
      ]
     },
     "metadata": {},
     "output_type": "display_data"
    }
   ],
   "source": [
    "a = [(1, 2), (2, 3), (3, 4), (4, 5), (5, 6), (6, 1), (1, 6)]\n",
    "\n",
    "G = nx.Graph(a)\n",
    "\n",
    "nx.draw(G, with_labels=True, font_weight=\"bold\")"
   ]
  },
  {
   "cell_type": "code",
   "execution_count": 61,
   "metadata": {},
   "outputs": [
    {
     "data": {
      "text/plain": [
       "[(1, 2), (1, 6), (2, 3), (3, 4), (4, 5), (5, 6)]"
      ]
     },
     "execution_count": 61,
     "metadata": {},
     "output_type": "execute_result"
    }
   ],
   "source": [
    "list(G.edges)"
   ]
  },
  {
   "cell_type": "code",
   "execution_count": 59,
   "metadata": {},
   "outputs": [
    {
     "data": {
      "text/plain": [
       "[1, 6, 5]"
      ]
     },
     "execution_count": 59,
     "metadata": {},
     "output_type": "execute_result"
    }
   ],
   "source": [
    "from networkx import astar_path\n",
    "\n",
    "\n",
    "astar_path(G, 1, 5)"
   ]
  }
 ],
 "metadata": {
  "kernelspec": {
   "display_name": "haqtoberfest",
   "language": "python",
   "name": "python3"
  },
  "language_info": {
   "codemirror_mode": {
    "name": "ipython",
    "version": 3
   },
   "file_extension": ".py",
   "mimetype": "text/x-python",
   "name": "python",
   "nbconvert_exporter": "python",
   "pygments_lexer": "ipython3",
   "version": "3.12.5"
  }
 },
 "nbformat": 4,
 "nbformat_minor": 2
}
